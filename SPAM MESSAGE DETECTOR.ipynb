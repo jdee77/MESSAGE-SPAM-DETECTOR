{
 "cells": [
  {
   "cell_type": "markdown",
   "id": "84400543",
   "metadata": {},
   "source": [
    "# SPAM MESSAGE DETECTOR "
   ]
  },
  {
   "cell_type": "code",
   "execution_count": 45,
   "id": "83b4ba3a",
   "metadata": {},
   "outputs": [],
   "source": [
    "import numpy as np\n",
    "import pandas as pd\n",
    "import matplotlib.pyplot as plt\n",
    "import seaborn as sns\n",
    "import itertools\n",
    "from collections import Counter\n",
    "from sklearn.model_selection import train_test_split\n",
    "from sklearn.metrics import confusion_matrix\n",
    "from sklearn.feature_extraction.text import CountVectorizer\n",
    "from sklearn.naive_bayes import MultinomialNB"
   ]
  },
  {
   "cell_type": "code",
   "execution_count": 98,
   "id": "3adbb458",
   "metadata": {},
   "outputs": [],
   "source": [
    "df = pd.read_csv('DataSet/train.csv')"
   ]
  },
  {
   "cell_type": "markdown",
   "id": "186253f1",
   "metadata": {},
   "source": [
    "### Visualize the Data"
   ]
  },
  {
   "cell_type": "code",
   "execution_count": 88,
   "id": "e93d8fb3",
   "metadata": {},
   "outputs": [
    {
     "name": "stdout",
     "output_type": "stream",
     "text": [
      "The training Data for spam detector : \n"
     ]
    },
    {
     "data": {
      "text/html": [
       "<div>\n",
       "<style scoped>\n",
       "    .dataframe tbody tr th:only-of-type {\n",
       "        vertical-align: middle;\n",
       "    }\n",
       "\n",
       "    .dataframe tbody tr th {\n",
       "        vertical-align: top;\n",
       "    }\n",
       "\n",
       "    .dataframe thead th {\n",
       "        text-align: right;\n",
       "    }\n",
       "</style>\n",
       "<table border=\"1\" class=\"dataframe\">\n",
       "  <thead>\n",
       "    <tr style=\"text-align: right;\">\n",
       "      <th></th>\n",
       "      <th>id</th>\n",
       "      <th>label</th>\n",
       "      <th>message</th>\n",
       "    </tr>\n",
       "  </thead>\n",
       "  <tbody>\n",
       "    <tr>\n",
       "      <th>0</th>\n",
       "      <td>1</td>\n",
       "      <td>0</td>\n",
       "      <td>@user when a father is dysfunctional and is s...</td>\n",
       "    </tr>\n",
       "    <tr>\n",
       "      <th>1</th>\n",
       "      <td>2</td>\n",
       "      <td>0</td>\n",
       "      <td>@user @user thanks for #lyft credit i can't us...</td>\n",
       "    </tr>\n",
       "    <tr>\n",
       "      <th>2</th>\n",
       "      <td>3</td>\n",
       "      <td>0</td>\n",
       "      <td>bihday your majesty</td>\n",
       "    </tr>\n",
       "    <tr>\n",
       "      <th>3</th>\n",
       "      <td>4</td>\n",
       "      <td>0</td>\n",
       "      <td>#model   i love u take with u all the time in ...</td>\n",
       "    </tr>\n",
       "    <tr>\n",
       "      <th>4</th>\n",
       "      <td>5</td>\n",
       "      <td>0</td>\n",
       "      <td>factsguide: society now    #motivation</td>\n",
       "    </tr>\n",
       "    <tr>\n",
       "      <th>5</th>\n",
       "      <td>6</td>\n",
       "      <td>0</td>\n",
       "      <td>[2/2] huge fan fare and big talking before the...</td>\n",
       "    </tr>\n",
       "    <tr>\n",
       "      <th>6</th>\n",
       "      <td>7</td>\n",
       "      <td>0</td>\n",
       "      <td>@user camping tomorrow @user @user @user @use...</td>\n",
       "    </tr>\n",
       "    <tr>\n",
       "      <th>7</th>\n",
       "      <td>8</td>\n",
       "      <td>0</td>\n",
       "      <td>the next school year is the year for exams.ð...</td>\n",
       "    </tr>\n",
       "    <tr>\n",
       "      <th>8</th>\n",
       "      <td>9</td>\n",
       "      <td>0</td>\n",
       "      <td>we won!!! love the land!!! #allin #cavs #champ...</td>\n",
       "    </tr>\n",
       "    <tr>\n",
       "      <th>9</th>\n",
       "      <td>10</td>\n",
       "      <td>0</td>\n",
       "      <td>@user @user welcome here !  i'm   it's so #gr...</td>\n",
       "    </tr>\n",
       "  </tbody>\n",
       "</table>\n",
       "</div>"
      ],
      "text/plain": [
       "   id  label                                            message\n",
       "0   1      0   @user when a father is dysfunctional and is s...\n",
       "1   2      0  @user @user thanks for #lyft credit i can't us...\n",
       "2   3      0                                bihday your majesty\n",
       "3   4      0  #model   i love u take with u all the time in ...\n",
       "4   5      0             factsguide: society now    #motivation\n",
       "5   6      0  [2/2] huge fan fare and big talking before the...\n",
       "6   7      0   @user camping tomorrow @user @user @user @use...\n",
       "7   8      0  the next school year is the year for exams.ð...\n",
       "8   9      0  we won!!! love the land!!! #allin #cavs #champ...\n",
       "9  10      0   @user @user welcome here !  i'm   it's so #gr..."
      ]
     },
     "execution_count": 88,
     "metadata": {},
     "output_type": "execute_result"
    }
   ],
   "source": [
    "print(\"The training Data for spam detector : \")\n",
    "df.head(10)"
   ]
  },
  {
   "cell_type": "code",
   "execution_count": 89,
   "id": "b971a190",
   "metadata": {},
   "outputs": [
    {
     "name": "stdout",
     "output_type": "stream",
     "text": [
      "<class 'pandas.core.frame.DataFrame'>\n",
      "RangeIndex: 31962 entries, 0 to 31961\n",
      "Data columns (total 3 columns):\n",
      " #   Column   Non-Null Count  Dtype \n",
      "---  ------   --------------  ----- \n",
      " 0   id       31962 non-null  int64 \n",
      " 1   label    31962 non-null  int64 \n",
      " 2   message  31962 non-null  object\n",
      "dtypes: int64(2), object(1)\n",
      "memory usage: 749.2+ KB\n"
     ]
    }
   ],
   "source": [
    "df.info()"
   ]
  },
  {
   "cell_type": "code",
   "execution_count": 90,
   "id": "b4e57f9c",
   "metadata": {},
   "outputs": [
    {
     "data": {
      "image/png": "[encoded data removed]",
      "text/plain": [
       "<Figure size 432x288 with 1 Axes>"
      ]
     },
     "metadata": {
      "needs_background": "light"
     },
     "output_type": "display_data"
    }
   ],
   "source": [
    "# frequency of spam and non spam message \n",
    "sns.countplot(data = df, x = df['label'])\n",
    "plt.title(\"Frequency of spam and non spam messages\")\n",
    "plt.show()"
   ]
  },
  {
   "cell_type": "code",
   "execution_count": 91,
   "id": "81b19738",
   "metadata": {},
   "outputs": [
    {
     "data": {
      "image/png": "[encoded data removed]",
      "text/plain": [
       "<Figure size 432x288 with 1 Axes>"
      ]
     },
     "metadata": {
      "needs_background": "light"
     },
     "output_type": "display_data"
    },
    {
     "data": {
      "image/png": "[encoded data removed]",
      "text/plain": [
       "<Figure size 432x288 with 1 Axes>"
      ]
     },
     "metadata": {
      "needs_background": "light"
     },
     "output_type": "display_data"
    }
   ],
   "source": [
    "spam_data = df[df['label'] == 1]\n",
    "non_spam_data = df[df['label'] == 0]\n",
    "\n",
    "spam_message = spam_data['message']\n",
    "non_spam_message = non_spam_data['message']\n",
    "\n",
    "# unique word laballed as spam\n",
    "l = [message.split() for message in spam_message]\n",
    "spam_words = spam_words = list(itertools.chain.from_iterable(l))\n",
    "        \n",
    "k = [message.split() for message in non_spam_message]\n",
    "no_spam_words = list(itertools.chain.from_iterable(k))\n",
    "\n",
    "\n",
    "# dictionary containing frequency of spam and non spam words \n",
    "spam = Counter(spam_words)\n",
    "non_spam = Counter(no_spam_words)\n",
    "\n",
    "\n",
    "# sort according to the frequency descending \n",
    "non_spam = sorted(non_spam.items(), key=lambda kv: kv[1], reverse=True)\n",
    "spam = sorted(spam.items(), key=lambda kv: kv[1], reverse=True)\n",
    "\n",
    "top15_spam = spam[:16]\n",
    "top15_nonspam = non_spam[:16]\n",
    "\n",
    "top_words_nonspam = [i[0] for i in top15_nonspam]   \n",
    "top_occurences_nonspam = [i[1] for i in top15_nonspam]\n",
    "    \n",
    "top_words_spam = [i[0] for i in top15_spam]       \n",
    "top_occurences_spam = [i[1] for i in top15_spam]\n",
    "\n",
    "# Visualize top 15 spam words\n",
    "plt.bar(top_words_spam, top_occurences_spam, color = \"red\")\n",
    "plt.title(\"Top 15 spam words\")\n",
    "plt.xticks(rotation='vertical')\n",
    "plt.show()\n",
    "\n",
    "# Visualize top 15 non spam words\n",
    "plt.bar(top_words_nonspam, top_occurences_nonspam, color = 'green')\n",
    "plt.title(\"Top 15 non spam words\")\n",
    "plt.xticks(rotation='vertical')\n",
    "plt.show()\n"
   ]
  },
  {
   "cell_type": "markdown",
   "id": "46aa4e94",
   "metadata": {},
   "source": [
    "### Train the model"
   ]
  },
  {
   "cell_type": "code",
   "execution_count": 92,
   "id": "3b544c3f",
   "metadata": {},
   "outputs": [],
   "source": [
    "x = df['message']\n",
    "y = df['label']\n",
    "\n",
    "# split the data set into 75% training, 25% testing \n",
    "X_train, X_test, Y_train, Y_test = train_test_split(x, y, random_state = 0, test_size = 0.25)\n",
    "\n",
    "cv = CountVectorizer(min_df = 0.01, max_features = 300, stop_words = 'english')  \n",
    "cv.fit(X_train)\n",
    "\n",
    "X_train = cv.transform(X_train)\n",
    "X_test = cv.transform(X_test)"
   ]
  },
  {
   "cell_type": "code",
   "execution_count": 93,
   "id": "fa06fedd",
   "metadata": {},
   "outputs": [
    {
     "name": "stdout",
     "output_type": "stream",
     "text": [
      "0.924665248404455\n"
     ]
    }
   ],
   "source": [
    "model = MultinomialNB()\n",
    "model.fit(X_train, Y_train)\n",
    "\n",
    "print(model.score(X_test, Y_test))"
   ]
  },
  {
   "cell_type": "markdown",
   "id": "dfd20c71",
   "metadata": {},
   "source": [
    "#### Confusion Matrix"
   ]
  },
  {
   "cell_type": "code",
   "execution_count": 94,
   "id": "e0aa87e4",
   "metadata": {},
   "outputs": [
    {
     "data": {
      "text/plain": [
       "array([[7303,  157],\n",
       "       [ 445,   86]], dtype=int64)"
      ]
     },
     "execution_count": 94,
     "metadata": {},
     "output_type": "execute_result"
    }
   ],
   "source": [
    "Y_test_pred = model.predict(X_test)\n",
    "confusion_matrix(Y_test, Y_test_pred)"
   ]
  },
  {
   "cell_type": "code",
   "execution_count": 95,
   "id": "f71e0a4f",
   "metadata": {
    "scrolled": true
   },
   "outputs": [
    {
     "name": "stdout",
     "output_type": "stream",
     "text": [
      "Enter the string : \n"
     ]
    },
    {
     "data": {
      "text/plain": [
       "'This message is no spam !'"
      ]
     },
     "execution_count": 95,
     "metadata": {},
     "output_type": "execute_result"
    }
   ],
   "source": [
    "def classifier(message):\n",
    "    transformed = cv.transform([message])\n",
    "    prediction =  model.predict(transformed)\n",
    "    \n",
    "    if prediction == 0:\n",
    "        return \"This message is no spam !\"\n",
    "    else:\n",
    "        return \"This message is spam !\"\n",
    "    \n",
    "    \n",
    "str = input(\"Enter the string : \")\n",
    "classifier(str)"
   ]
  },
  {
   "cell_type": "markdown",
   "id": "cede8f36",
   "metadata": {},
   "source": [
    "# SPAM DETECTION FOR A DATA SET"
   ]
  },
  {
   "cell_type": "code",
   "execution_count": 99,
   "id": "b9975333",
   "metadata": {},
   "outputs": [
    {
     "data": {
      "text/html": [
       "<div>\n",
       "<style scoped>\n",
       "    .dataframe tbody tr th:only-of-type {\n",
       "        vertical-align: middle;\n",
       "    }\n",
       "\n",
       "    .dataframe tbody tr th {\n",
       "        vertical-align: top;\n",
       "    }\n",
       "\n",
       "    .dataframe thead th {\n",
       "        text-align: right;\n",
       "    }\n",
       "</style>\n",
       "<table border=\"1\" class=\"dataframe\">\n",
       "  <thead>\n",
       "    <tr style=\"text-align: right;\">\n",
       "      <th></th>\n",
       "      <th>id</th>\n",
       "      <th>message</th>\n",
       "    </tr>\n",
       "  </thead>\n",
       "  <tbody>\n",
       "    <tr>\n",
       "      <th>0</th>\n",
       "      <td>31963</td>\n",
       "      <td>#studiolife #aislife #requires #passion #dedic...</td>\n",
       "    </tr>\n",
       "    <tr>\n",
       "      <th>1</th>\n",
       "      <td>31964</td>\n",
       "      <td>@user #white #supremacists want everyone to s...</td>\n",
       "    </tr>\n",
       "    <tr>\n",
       "      <th>2</th>\n",
       "      <td>31965</td>\n",
       "      <td>safe ways to heal your #acne!!    #altwaystohe...</td>\n",
       "    </tr>\n",
       "    <tr>\n",
       "      <th>3</th>\n",
       "      <td>31966</td>\n",
       "      <td>is the hp and the cursed child book up for res...</td>\n",
       "    </tr>\n",
       "    <tr>\n",
       "      <th>4</th>\n",
       "      <td>31967</td>\n",
       "      <td>3rd #bihday to my amazing, hilarious #nephew...</td>\n",
       "    </tr>\n",
       "    <tr>\n",
       "      <th>5</th>\n",
       "      <td>31968</td>\n",
       "      <td>choose to be   :) #momtips</td>\n",
       "    </tr>\n",
       "    <tr>\n",
       "      <th>6</th>\n",
       "      <td>31969</td>\n",
       "      <td>something inside me dies ð¦ð¿â¨  eyes nes...</td>\n",
       "    </tr>\n",
       "    <tr>\n",
       "      <th>7</th>\n",
       "      <td>31970</td>\n",
       "      <td>#finished#tattoo#inked#ink#loveitâ¤ï¸ #â¤ï¸...</td>\n",
       "    </tr>\n",
       "    <tr>\n",
       "      <th>8</th>\n",
       "      <td>31971</td>\n",
       "      <td>@user @user @user i will never understand why...</td>\n",
       "    </tr>\n",
       "    <tr>\n",
       "      <th>9</th>\n",
       "      <td>31972</td>\n",
       "      <td>#delicious   #food #lovelife #capetown mannaep...</td>\n",
       "    </tr>\n",
       "  </tbody>\n",
       "</table>\n",
       "</div>"
      ],
      "text/plain": [
       "      id                                            message\n",
       "0  31963  #studiolife #aislife #requires #passion #dedic...\n",
       "1  31964   @user #white #supremacists want everyone to s...\n",
       "2  31965  safe ways to heal your #acne!!    #altwaystohe...\n",
       "3  31966  is the hp and the cursed child book up for res...\n",
       "4  31967    3rd #bihday to my amazing, hilarious #nephew...\n",
       "5  31968                        choose to be   :) #momtips \n",
       "6  31969  something inside me dies ð¦ð¿â¨  eyes nes...\n",
       "7  31970  #finished#tattoo#inked#ink#loveitâ¤ï¸ #â¤ï¸...\n",
       "8  31971   @user @user @user i will never understand why...\n",
       "9  31972  #delicious   #food #lovelife #capetown mannaep..."
      ]
     },
     "execution_count": 99,
     "metadata": {},
     "output_type": "execute_result"
    }
   ],
   "source": [
    "data = pd.read_csv('DataSet/test.csv')\n",
    "data = data[:200]\n",
    "data.head(10)"
   ]
  },
  {
   "cell_type": "code",
   "execution_count": 100,
   "id": "bed1b381",
   "metadata": {},
   "outputs": [
    {
     "name": "stdout",
     "output_type": "stream",
     "text": [
      "#studiolife #aislife #requires #passion #dedication #willpower   to find #newmaterialsâ¦  : This message is no spam !\n",
      " @user #white #supremacists want everyone to see the new â  #birdsâ #movie â and hereâs why   : This message is no spam !\n",
      "safe ways to heal your #acne!!    #altwaystoheal #healthy   #healing!!  : This message is no spam !\n",
      "is the hp and the cursed child book up for reservations already? if yes, where? if no, when? ððð   #harrypotter #pottermore #favorite : This message is no spam !\n",
      "  3rd #bihday to my amazing, hilarious #nephew eli ahmir! uncle dave loves you and missesâ¦  : This message is no spam !\n",
      "choose to be   :) #momtips  : This message is no spam !\n",
      "something inside me dies ð¦ð¿â¨  eyes ness #smokeyeyes #tired  #lonely #sof #grungeâ¦  : This message is no spam !\n",
      "#finished#tattoo#inked#ink#loveitâ¤ï¸ #â¤ï¸â¤ï¸â¤ï¸â¤ï¸ #thanks#aleeee !!!  : This message is no spam !\n",
      " @user @user @user i will never understand why my dad left me when i was so young.... :/ #deep #inthefeels   : This message is no spam !\n",
      "#delicious   #food #lovelife #capetown mannaepicure #resturantâ¦  : This message is no spam !\n",
      "1000dayswasted - narcosis infinite ep.. make me aware.. grinding neuro bass #lifestyle    : This message is no spam !\n",
      "one of the world's greatest spoing events   #lemans24 #teamaudi   : This message is no spam !\n",
      "half way through the website now and #allgoingwell very   : This message is no spam !\n",
      "good food, good life , #enjoy and   ðððððð this is called ~garlic bread~ ... #iloveitâ¦  : This message is no spam !\n",
      "i'll stand behind this #guncontrolplease   #senselessshootings #taketheguns #comicrelief #stillsad  : This message is no spam !\n",
      "i ate,i ate and i ate...ðð   #jamaisasthi #fish #curry #prawn #hilsa #foodfestival #foodies  : This message is no spam !\n",
      " @user got my @user limited edition rain or shine set today!!  ! @user @user @user @user  : This message is no spam !\n",
      "&amp; #love &amp; #hugs &amp; #kisses too! how to keep your #baby     #parenting #healthcare : This message is no spam !\n",
      "ð­ðð #girls   #sun #fave @ london, united kingdom  : This message is no spam !\n",
      "thought factory: bbc neutrality on right wing fascism  #politics #media #blm #brexit #trump #leadership &gt;3  : This message is spam !\n",
      "hey guys tommorow is the last day of my exams i'm so happy yay   : This message is no spam !\n",
      " @user @user  @user  #levyrroni #recuerdos memoriesð­â¤ðð«ð #recuerdos    #friends #life #triunfodelamor  : This message is no spam !\n",
      "my mind is like ððð½ð but my body like ðð´ðµð½....   #sleepy #stillallinð : This message is no spam !\n",
      "never been this down on myself in my entire life.   : This message is no spam !\n",
      "check  twitterww - trends: \"trending worldwide 11:14 am bst\"1. #oscarpistorius2. #diplomalÄ±liselilerayakta3.  â¦ : This message is no spam !\n",
      "i thought i saw a mermaid!!! #ceegee  #smcr   #inshot #girls #cute #summer #blur #sun  â¦  : This message is no spam !\n",
      " chick gets fucked hottest naked lady  : This message is no spam !\n",
      "happy bday lucyâ¨â¨ð xoxo #love #beautiful #pizza   #instagood #mileycyrus #demilovatoâ¦  : This message is no spam !\n",
      " haroldfriday have a weekend filled with sunbeams everyone!   #healthy #weekend  : This message is no spam !\n",
      "@user @user tried that! but nothing - will try again! know you loved #2, but the 3rd light my fave &amp;deep rivers   : This message is no spam !\n",
      "i'll #never be #120 #again i'm   #i'm a #thick #women #blacktina : This message is no spam !\n",
      " @user new @user episode tk! and a really cool 2-year anniversary ep in the works for august. :o)    : This message is no spam !\n",
      "#orangechicken   attack bull game 3d: do you really think that his head was empty around the city. each side  : This message is no spam !\n",
      "suppo the #taiji fisherman! no bullying! no racism! #tweet4taiji #thecove #seashepherd  : This message is no spam !\n",
      "i say we because i'm speaking collectively. i've always known. 2016 showed a lot.  andâ¦  : This message is no spam !\n",
      "wish we could talk   : This message is no spam !\n",
      "food time for haylie ð hot chocolate for mummy âï¸â",
      "ð¤ðð¯ðªâ®ð¤ thank god it's friday!!! ððð  â¦  : This message is no spam !\n",
      "@user snow white --&gt; open! --&gt; #sleepy,  , #sneezy and #bashful. @ or dm us today! [#]  : This message is no spam !\n",
      "  #bihday #shilpashetty we #wish you to have a very very #successful #yearretailer,manufacturer ladies cloth  : This message is no spam !\n",
      "it wasn't me  #lottery  : This message is no spam !\n",
      "tomorrow will be fun! seeing an old friend and then shooting something super fun:)   : This message is no spam !\n",
      "#raw food diet benefits! -    #altwaystoheal #healthy   #healing #peace #joy #love !!  : This message is no spam !\n",
      "@user @user trumps invested billions into saudi. he empowers the people funding isis.   #trumpsahypocrite : This message is no spam !\n",
      "my granddaughter's 1st bihday is tomorrow.  going to pick her play house, little car, &amp; pool today.   ððððððð : This message is no spam !\n",
      "happiest place on eah! #disneyworld #orlando #castle   #mickeymouse #likechildrens @user  : This message is no spam !\n",
      "so baby dave is due to be born on october 26...my fav band of all time #tool will be playing @user the same weekend .....   lol : This message is no spam !\n",
      "  loving each other every day : This message is no spam !\n",
      " @user morning sunshine! ð   #smile #sexy #bigboobs  : This message is no spam !\n",
      "this #world makes me  ... #jesus makes me #happy... john 16:33 #word #truth #faith #peaceâ¦  : This message is no spam !\n",
      "foods for #healing your body!!    #doplants! #healthy is  !!  : This message is no spam !\n",
      "enjoying the sunshine! god is good. #orlando #sunshinestate #goodlife #bosslady #joy  â¦  : This message is no spam !\n",
      "@user    father's to my idol #prg# : This message is no spam !\n",
      "@user is there any reason for why the maintainers of the android do not provide more clear and basic code examples in their docs?   : This message is no spam !\n",
      "have a nice luxuryweek!!ó¾ó¾ #monday #neweek #luxuryweek #bestday #staypositive   #fun #goodmoments #lifestyle...  : This message is no spam !\n",
      "cause me and @user get to live together for a whole week!   #cantwaittocook ðð : This message is no spam !\n",
      "@user @user @user @user #throw back thursday  bih day 2 my bro@user chege : This message is no spam !\n",
      "i am thankful for fun. #thankful #positive      : This message is no spam !\n",
      "i saw she's craying coz her baby so hard to breath     strong yeah baby god withâ¦ (at kaika medical center) â  : This message is no spam !\n",
      "so this happened!   #baby #duedec2016  : This message is no spam !\n",
      "let's do this thing!   #euro2016  : This message is no spam !\n",
      "it's time!! ðð¼ðð¼ðð¼â½ï¸â½ï¸ #euro2016 #onemonth #24teams #onewinner #football #internationals   #10thjune-10thjuly : This message is no spam !\n",
      "#model   i love u take with u all the time in urð±!!! ðððð",
      "ð¦ð¦ð¦   : This message is no spam !\n",
      "can #lighttherapy help with #sad or #depression?    #altwaystoheal  #healthy is   !!  : This message is no spam !\n",
      "have a very good sunday everyone ððð«ð·â½ï¸ð #sunday #morning   #smile #picofthedayâ¦  : This message is no spam !\n",
      "my cousins are asking why do i always where shawl...di ko lang masabi, 'coz po i'm getting fat and my braso is getting bigger!!!   #baboy : This message is no spam !\n",
      "i #believe r #willingness 2 #try 2 #understand, 2 #encourage &amp; 2 #inspire others 2 b   &amp; #grow is a #greater #spiritual #purpose #grok : This message is no spam !\n",
      "time for a pint before seeing coldplay in wembleyyyy ð³ðð   #coldplay #wembleystadiumâ¦  : This message is no spam !\n",
      "current mood.  #goodnight #happilyeverafter #disney #quotes   #blessed #thankful #gratefulâ¦  : This message is no spam !\n",
      "chioma and noble igwe's special day #chobs16 #chobs2016 @user #landmark_centre @user    : This message is no spam !\n",
      "cant believe i left school 5 years ago and now in 8 weeks time ill be teaching my own classes! #drama#teacher #gettingold : This message is no spam !\n",
      "lipo-light helped shape her, and it can help shape you. learn more @user #loseinches #burnfat #result    : This message is no spam !\n",
      "ahhh!! leaving for @user tomorrow!!ððð¼ð­ð @user #eforest2016 #electricforest #plur   : This message is no spam !\n",
      "blessed to hear morning chorus, good morning the people.   fridayðð : This message is no spam !\n",
      "aunti mi, where do you find this hilarious posts?  is nigeria not in enough trouble?  : This message is no spam !\n",
      " @user 6 chapters left of my book &amp; then it's nearly complete #kruella #adaughterstale it will be a hard read #emotional #funnyâ¦ : This message is no spam !\n",
      " @user thrilled to be working with @user over the coming months - more announcements very soon #2faceddancecompany  : This message is no spam !\n",
      "trying out another way to make #sourdough #bread, this one may be underproofed   #failed #baking  : This message is no spam !\n",
      "cool old door with window only $50.00 from vendor 509!! #shoplocal #shopalyssas #fathersday    : This message is no spam !\n",
      "  #fathersday #fatherday from @user team!  : This message is no spam !\n",
      "   greatbritain: all eyes on the skies as rafredarrows fly past the mall to say  â¦  : This message is no spam !\n",
      " @user 8000 followers...we are blessed by all of you ,and love everyone that suppos us ...thx very much and   fishing and fâ¦ : This message is no spam !\n",
      "@user .@user @user @user @user &lt;--- no more feeding at the public trough piggy. #michelleobamaâ¦  : This message is spam !\n",
      "website is live #avon # makeup # fresh # look    : This message is no spam !\n",
      "and the forecast looks good for the weather all across #bolton !  : This message is no spam !\n",
      " @user happy shootingð©ââ¤ï¸âðâð©ð· love monicaðð  #sweet #magazine #thanku #love    : This message is no spam !\n",
      "happy father's day ððð   #fathers #day fathersday #dad #ilovemydad #ilovemyfather #love  : This message is no spam !\n",
      "stardivarius:    friday : new history and new outfit post   #fashion #look  #friendsflâ¦  : This message is no spam !\n",
      " @user final countdown to the official us publication on june 1st   #whyfontsmatter #usa #typography #font #book  : This message is no spam !\n",
      "so happy that d trusted me to be the first to knowâ¤ð¶   #lovelovelovebabies : This message is no spam !\n",
      "interview feat grandmaster flash - ze lovely message â«âªâ«â«âºâº #nurap #nudisco #music #paris   â«âªâ«  via @user : This message is no spam !\n",
      "i'm getting more hours at work for my training. i'm so    : This message is no spam !\n",
      "life right now is amazingð  #successful #positive : This message is no spam !\n",
      "if social media is your reality you should really get out more. viual acceptance seems to really be a thing.   #s ocialmedia : This message is no spam !\n",
      "@user ðª sevens tomorrowðª #southwestseason ðfinalðagainst @user next week  plus scrim with @user  #wearebusy   : This message is no spam !\n",
      "@user @user @user @user @user your ignorant &amp; ill informed tweets r silly, childish &amp; one dimensional   : This message is spam !\n",
      "great to see you! look forward to welcoming you to digme    : This message is no spam !\n",
      "jackblair - na: #horny #hot #naughty #nasty   #slut #young #shy #wet #nude #xxx #sexy #porn #kinky #snapshot  : This message is no spam !\n",
      "@user @user did u take both of them and pour them into one big cup, or what? no drink delivered.   : This message is no spam !\n",
      "ððððâ¤ï¸ððð» happy father's day dad hope u have a great day love u ððððâ¤ï¸ððð»  fathersday  #loveyou  : This message is no spam !\n",
      "i have been working on my anatomy studyguide since 5 pm and i am still not done   #isuck #plspassme : This message is no spam !\n",
      "worry not.   #daydream #sunlight #thunder #miss #dreams   #distance #silence #pain #sweetâ¦  : This message is no spam !\n",
      "@user getting ready for kubamba  fathers day kambua noel gg moh be blessed : This message is no spam !\n",
      "ya know guys, i was feeling stressed out after the donut thing. i just feel so happy when i know 96 followers are sticking with me.   : This message is no spam !\n",
      "pa 2 #å¶æãã«ã° #ã»ã¼ã©ã¼æ #ã«ã¼ãºã½ãã¯ã¹ #ãã¤ã³ãã¼ã« #jk #ã®ã£ã« #ãããªã³ #åç #ããª   #fun #memory #bffð­ #loveâ¦  : This message is no spam !\n",
      "electronic music from #bogota #colombia  #puntohost #cedm #edm #dj #fashion #music    : This message is no spam !\n",
      "back for some people! #missingperson #havingfunalone #lonely   ð #hothl ð¥ðð  : This message is no spam !\n",
      "l o v e   #sky #photoofday #moments #cool #instaphoto  #paradise    #good  #mexicoâ¦  : This message is no spam !\n",
      "happy saturday tune (*^_^*) #music #saturday   #edm  : This message is no spam !\n",
      "many of my @user alum friends are waking up shocked to hear of the death of scsu president. #shocked    : This message is no spam !\n",
      "@user i'm disappointed in yesterday's argument. i wasn't even baselessly accused of living in my mothers basement. #weak   #bad : This message is no spam !\n",
      "hey @user - a $14000 ivanka bracelet? do you feel good profiting from #xenophobia? #misogyny? #hatred? ? #grabyourwallet : This message is no spam !\n",
      "she was just loving him and he just saw her as a temporary setup.   : This message is no spam !\n",
      "happy euro 2016 eve #euro2016   ðððªð½ðªð½ : This message is no spam !\n",
      " @user only 741 retweets in over half a day   that's because gun owners like my hubby &amp; me don't respect your fanaticism  : This message is no spam !\n",
      "colourpop !!! ðððð    : This message is no spam !\n",
      "#palladino : \"i'll say whatÂ iÂ feel like saying.â #gopathetic #lookwhatyoudid #politics   #madcow   : This message is no spam !\n",
      "save $$ no logins x brokers   #me #change #memes #love   #education #university  : This message is no spam !\n",
      " @user fursuit fucking   hardcore 2008   : This message is no spam !\n",
      "something was obviously really funny ð­ #laugh #girls #smiles  â¦  : This message is no spam !\n",
      "#fbf to when it was all staing!   how far @user has come &amp; #anxious for whatâ¦  : This message is no spam !\n",
      "i am thankful for films. #thankful #positive      : This message is no spam !\n",
      "@user @user @user @user on our way to #oambo see you soon!!    #sasocp16  : This message is no spam !\n",
      "@user @user @user   always, always, always somebody else's fault...  #bigot  : This message is no spam !\n",
      "i have begun something #new on this page &amp; am super   about it :)  it's daily tarot guidance with a...  : This message is no spam !\n",
      "this how we turning up todayðð½ððð½ð #whitegirlwasted   #dramafree #armedsecurityâ¦  : This message is no spam !\n",
      "#qatil poetry   poetry #eid poetry #2 lines sms #eid ghazal #urdu poetry #dard poetry #beutiful #poetry + follow @user send 4o4o4 : This message is no spam !\n",
      "rip to all the victims.   #usa #prayfororlando #terrorism #victims #lgbt #suppo #altogether #pride #stand  : This message is no spam !\n",
      "i'm so   and #grateful now that - #affirmations  : This message is no spam !\n",
      " @user i read in an aicle 4 yrs before that even dhabas on the side of national highways are growing 1/2 acres of ganjas.   â¦ : This message is no spam !\n",
      "drive in to see grease &amp; footloose âºï¸ð«   : This message is no spam !\n",
      "@user  thank you steve!   i don't think it has quite sunk in though! : This message is no spam !\n",
      " @user today was a good day! ð­#happiestplaceoneah #disneyland #fun   #walking #sundayfundayâ¦  : This message is no spam !\n",
      "ltpst ðð and i need vitamin sea ðð  #beach #blue #smile    : This message is no spam !\n",
      " @user today's meððð§ð»ðð¦ð  #code #white #summer #love    : This message is no spam !\n",
      "#rainbow over wall street   a good way to end training!! #officialrainbowspotterâ¦  : This message is no spam !\n",
      "water why?  ð : This message is no spam !\n",
      "it's going to be a great day! the day itself doesn't have a choice in the matter. #feelinggood   #proud #feelingaccomplished #motivated : This message is no spam !\n",
      "@user oh there is tons of stuff its like they won't do it, eah garbage dump   : This message is no spam !\n",
      "found this in my vault never posted it ð¬ #selfie #throwback #boys #guys #love  â¦  : This message is no spam !\n",
      "happy friday!! #wegotwheels #car #vw #polo #firstcar   #ontheroad #whitepolo #newcarâ¦  : This message is no spam !\n",
      "@user all together this christmas: pls  &amp; follow @user national day of action on 20 feb against  &amp; theâ¦  : This message is no spam !\n",
      "you might be a libtard if... #libtard  #sjw #liberal #politics  : This message is no spam !\n",
      "withasumiðð»ð«ð #yesterday #shot#disney#disneyland  #enjoy  : This message is no spam !\n",
      "@user why is game of thrones s5 no longer on sky box sets? #mad   #help : This message is no spam !\n",
      " @user straight no chaser -   ( #music video)   : This message is no spam !\n",
      "4u nonhockey people. hockeys babe ruth died. gordie howe was beyond myth and legend. hockey has lost mr. hockey.   : This message is no spam !\n",
      "does #linkedin have anything in the works for giving free membership to #canadian, #australian and #british #veterans? #justusvetsatm   : This message is no spam !\n",
      "#michelleobama is looking a bit 'dishevelled...' is she thinking about spending her retirement visiting #obama at aâ¦  : This message is no spam !\n",
      "out for dinner with my lukey boy ðð#lovehim   #holidays #orlando @ clear creek circleâ¦  : This message is no spam !\n",
      "can't wait to watch @user with everyone at @user this evening!   : This message is no spam !\n",
      "@user hahaha, that's a good point that i just totally skipped over. when you're 14, not a celebrity, and your dad is asking for $,   : This message is no spam !\n",
      "cat is out of the bag...#fruit ninja   #steam #htcvive  : This message is no spam !\n",
      " @user  -national-german-bestfriend-day maybe? ððð¤ð¼  : This message is no spam !\n",
      "i am.. really good at cooking..   credit to @user for the mashed potatoes and mac n cheese!  : This message is no spam !\n",
      "why are all our local mps so   about the #downgrade of our hospital? #savethealex  : This message is no spam !\n",
      "pretty much the best advice ever. #hydrated #zerofucksgiven   #friday #sorrynotsorry #liveâ¦  : This message is no spam !\n",
      "#model #alternative #tattoo #piercing   @ olde towne bellevue  : This message is no spam !\n",
      "i just sent a msg to my aunt in peru and told her to wish my grandpa and uncles a happy father's day but didn't include my dad.   : This message is no spam !\n",
      "  day @user  all the best to you! : This message is no spam !\n",
      "#people aren't protesting #trump because a #republican won-they do so because trump has fuhered  &amp;â¦  : This message is spam !\n",
      " at work: attorneys for white officer who shot #philandocastile remove black judge from presiding over trial.  : This message is no spam !\n",
      "phil spencer criticizes sony? of course! what else would you do when you just got slapped in the face by sony's huge 40 million+ dick!   : This message is no spam !\n",
      " @user we think sa is pretty great, and we canât wait to show you why #twodaystogo #countdown #shhh   #bringiton : This message is no spam !\n",
      "w; @user @user @user and me #cafeexpress #stanupcomedy   #crazyâ¦  : This message is no spam !\n",
      "@user trump's long history of  explained 1970's thru 2016 #nevermypresident  #theresistance  : This message is spam !\n",
      "happy mother's day to ppl.   : This message is no spam !\n",
      "my #bff is in #liverpool and i am so   ! first stop @user for a #flatwhite  #coffeelovers #bestfriends  : This message is no spam !\n",
      "i love herð  : This message is no spam !\n",
      "so tom hiddleston.... aka..lokie(excuse spelling) is the new #jamesbond   #scaryinthor #bestchoicefornewjb ðððð : This message is no spam !\n",
      "about to watch these movies alone   : This message is no spam !\n",
      "one thinks this could be a bit of a punch up ð #gameofthrones     : This message is no spam !\n",
      "\"i'm his princess.\"  me: i'm no one's princess...sadly.    : This message is no spam !\n",
      "cant wait for icon this weekend and can't wait to finally get one of these tatoos   #icon16  : This message is no spam !\n",
      "laughing at the fact that all you mfz use this app to talk about what u feel inside for other people to see it haha   : This message is no spam !\n",
      "#sterling   attack bull chase: when you leave the lot despite the fact that you're a strong source of fo  : This message is no spam !\n",
      "i finally found a way how to delete old tweets! you might find it useful as well:    #deletetweets : This message is no spam !\n",
      "@user @user @user never a doubt on my pa,   many #voted for him. sad for #america. : This message is no spam !\n",
      "if you cut anyone with english dna in half you well find  written inside them. : This message is no spam !\n",
      " @user vip ciniworld with caz @user  ð¬   ð : This message is no spam !\n",
      "seeing war craft in imax 3d ð #warcraftmovie   #imax #woohoo  : This message is no spam !\n",
      "#model   i love u take with u all the time in urð±!!! ðððð",
      "ð¦ð¦ð¦   : This message is no spam !\n",
      " @user i burnt all the garlic bread #devastated   #:( : This message is no spam !\n",
      "#model   i love u take with u all the time in urð±!!! ðððð",
      "ð¦ð¦ð¦   : This message is no spam !\n",
      "@user  looked right at the cameraman as she grabbed katie's arm &amp; said \"can i talk to you\"   wow, everything you do is for tv?   : This message is spam !\n",
      "@user @user @user @user @user we held one in march, which was great cpd for everyone ðð½  : This message is spam !\n",
      "looking up some african news out of boredem, stumbled upon @user and oh my god, site is racist as fuck against everything   : This message is no spam !\n",
      "@user @user dana is devestated that there hasn't been any trouble  : This message is no spam !\n",
      "i am gorgeous. #i_am #positive #affirmation      : This message is no spam !\n",
      " @user oh, so now he's admitting to having a small staff???  #flipflopper #disgraceful    : This message is no spam !\n",
      "because happy! #because   #instagram #instagood #instagram #instapasspo #instadailyâ¦  : This message is no spam !\n",
      "splashing around ð¦ð#dogs #bestdogever #swimming #healthy   #goodvibes #yoga #fitnessâ¦  : This message is no spam !\n",
      "when people are so old and bored they resolve to bullying others over twitter   : This message is no spam !\n",
      " @user it isn't my love... it isn't....  : This message is no spam !\n",
      " @user there wasn't so much violence at the last #euro!!  i wonder what happened,  is the brutal side coming back? #euro2016 #footbaâ¦ : This message is no spam !\n",
      "i messed up my nails   : This message is no spam !\n",
      "can #lighttherapy help with   or #depression?    #altwaystoheal  #healthy is #happy !!  : This message is no spam !\n",
      "aww yeah it's all good bing bong bing bong    : This message is no spam !\n",
      "selfie srelfie! #smile   #me #selfie #followme #f4f #polishgirl #polskadziewczyna  : This message is no spam !\n",
      "how vera rubin overcame  and invented a whole field of #scientific #study  #diversityinscience #science #steam : This message is no spam !\n",
      " @user .@user @user @user @user so sorry to read this after so much pain   : This message is spam !\n"
     ]
    }
   ],
   "source": [
    "for message in data['message']:\n",
    "    print(message + ' : ' + classifier(message))"
   ]
  },
  {
   "cell_type": "code",
   "execution_count": null,
   "id": "d8439fda",
   "metadata": {},
   "outputs": [],
   "source": []
  },
  {
   "cell_type": "code",
   "execution_count": null,
   "id": "e3e67061",
   "metadata": {},
   "outputs": [],
   "source": []
  },
  {
   "cell_type": "code",
   "execution_count": null,
   "id": "4051aab6",
   "metadata": {},
   "outputs": [],
   "source": []
  }
 ],
 "metadata": {
  "kernelspec": {
   "display_name": "Python 3 (ipykernel)",
   "language": "python",
   "name": "python3"
  },
  "language_info": {
   "codemirror_mode": {
    "name": "ipython",
    "version": 3
   },
   "file_extension": ".py",
   "mimetype": "text/x-python",
   "name": "python",
   "nbconvert_exporter": "python",
   "pygments_lexer": "ipython3",
   "version": "3.9.12"
  }
 },
 "nbformat": 4,
 "nbformat_minor": 5
}
